{
 "cells": [
  {
   "cell_type": "code",
   "execution_count": 2,
   "metadata": {},
   "outputs": [],
   "source": [
    "import pandas as pd"
   ]
  },
  {
   "cell_type": "markdown",
   "metadata": {},
   "source": [
    "## Criar DataFrames com base no CSV"
   ]
  },
  {
   "cell_type": "code",
   "execution_count": 3,
   "metadata": {},
   "outputs": [],
   "source": [
    "# Carregar DataFrame de Clientes (Customers)\n",
    "df_customers = pd.read_csv('./datasets/churn_customers.csv')"
   ]
  },
  {
   "cell_type": "code",
   "execution_count": null,
   "metadata": {},
   "outputs": [],
   "source": [
    "# Mostrar os 5 primeiros registros do DataFrame\n",
    "df_customers.head(5)"
   ]
  },
  {
   "cell_type": "code",
   "execution_count": null,
   "metadata": {},
   "outputs": [],
   "source": [
    "# Mostrar os últimos 5 registros do DataFrame\n",
    "df_customers.tail(5)"
   ]
  },
  {
   "cell_type": "code",
   "execution_count": null,
   "metadata": {},
   "outputs": [],
   "source": [
    "# Mostrar estrutura/schema do DataFrame\n",
    "df_customers.info()"
   ]
  },
  {
   "cell_type": "code",
   "execution_count": 7,
   "metadata": {},
   "outputs": [],
   "source": [
    "# Carregar DataFrame de Serviços (Services)\n",
    "df_services = pd.read_csv('./datasets/churn_services.csv')"
   ]
  },
  {
   "cell_type": "code",
   "execution_count": null,
   "metadata": {},
   "outputs": [],
   "source": [
    "# Mostrar os 5 primeiros registros do DataFrame\n",
    "df_services.head(5)"
   ]
  },
  {
   "cell_type": "code",
   "execution_count": null,
   "metadata": {},
   "outputs": [],
   "source": [
    "# Mostrar os últimos 5 registros do DataFrame\n",
    "df_services.tail(5)"
   ]
  },
  {
   "cell_type": "code",
   "execution_count": null,
   "metadata": {},
   "outputs": [],
   "source": [
    "# Mostrar estrutura/schema do DataFrame\n",
    "df_services.info()"
   ]
  },
  {
   "cell_type": "code",
   "execution_count": 11,
   "metadata": {},
   "outputs": [],
   "source": [
    "# Carregar DataFrame de Contratos (Contracts)\n",
    "df_contracts = pd.read_csv('./datasets/churn_contracts.csv')"
   ]
  },
  {
   "cell_type": "code",
   "execution_count": null,
   "metadata": {},
   "outputs": [],
   "source": [
    "# Mostrar os 5 primeiros registros do DataFrame\n",
    "df_contracts.head(5)"
   ]
  },
  {
   "cell_type": "code",
   "execution_count": null,
   "metadata": {},
   "outputs": [],
   "source": [
    "# Mostrar os últimos 5 registros do DataFrame\n",
    "df_contracts.tail(5)"
   ]
  },
  {
   "cell_type": "code",
   "execution_count": null,
   "metadata": {},
   "outputs": [],
   "source": [
    "# Mostrar estrutura/schema do DataFrame\n",
    "df_contracts.info()"
   ]
  },
  {
   "cell_type": "markdown",
   "metadata": {},
   "source": [
    "## Transformação de Dados"
   ]
  },
  {
   "cell_type": "code",
   "execution_count": 15,
   "metadata": {},
   "outputs": [],
   "source": [
    "# Transformar coluna TotalCharges de String para Float - Abordagem 1 (astype)\n",
    "# df_contracts.TotalCharges = df_contracts.TotalCharges.astype(float)\n",
    "# A princípio essa abordagem não funcionou, pois dentro da coluna TotalCharges, tem um campo vazio ' ', o que impossibilita a conversão"
   ]
  },
  {
   "cell_type": "code",
   "execution_count": 16,
   "metadata": {},
   "outputs": [],
   "source": [
    "# Transformar coluna TotalCharges de String para Float - Abordagem 2 (to_numeric)\n",
    "# df_contracts.TotalCharges = pd.to_numeric(df_contracts.TotalCharges)"
   ]
  },
  {
   "cell_type": "code",
   "execution_count": 17,
   "metadata": {},
   "outputs": [],
   "source": [
    "# Transformar coluna TotalCharges de String para Float - Abordagem 3 (to_numeric com coerce)\n",
    "df_contracts.TotalCharges = pd.to_numeric(df_contracts.TotalCharges, errors='coerce')\n",
    "# Quando temos algum valor vazio ' ' na tabela, essa é a abordagem recomendável, pois vai sobrepor os erros que irão ocorrer"
   ]
  },
  {
   "cell_type": "code",
   "execution_count": null,
   "metadata": {},
   "outputs": [],
   "source": [
    "# Mostrar estrutura/schema do DataFrame\n",
    "df_contracts.info()"
   ]
  },
  {
   "cell_type": "markdown",
   "metadata": {},
   "source": [
    "Após a transformação da coluna TotalCharges do DataFrame Contracts, a coluna passou a ter 11 valores ausentes (missing values)"
   ]
  },
  {
   "cell_type": "markdown",
   "metadata": {},
   "source": [
    "## Renomear Colunas"
   ]
  },
  {
   "cell_type": "code",
   "execution_count": null,
   "metadata": {},
   "outputs": [],
   "source": [
    "# Renomear coluna no DataFrame - Abordagem 1 (rename e dicionário)\n",
    "df_customers.rename(columns={'SeniorCitizen': 'Above65yo'})\n",
    "# No final das contas, ele efetivamente não fez essa conversão, só mostrou"
   ]
  },
  {
   "cell_type": "code",
   "execution_count": 20,
   "metadata": {},
   "outputs": [],
   "source": [
    "# Criar um DataFrame novo, com base nas colunas renomeadas\n",
    "df_customers_renamed = df_customers.rename(columns={'SeniorCitizen': 'Above65yo'})"
   ]
  },
  {
   "cell_type": "code",
   "execution_count": null,
   "metadata": {},
   "outputs": [],
   "source": [
    "# Mostrar estrutura do DataFrame novo\n",
    "df_customers_renamed.info()"
   ]
  },
  {
   "cell_type": "code",
   "execution_count": 22,
   "metadata": {},
   "outputs": [],
   "source": [
    "# Aplicar o resultado do rename no próprio DataFrame\n",
    "df_customers.rename(columns={'SeniorCitizen': 'Above65yo'}, inplace=True)\n",
    "# O argumento inplace=True que vai aplicar as mudanças ao DataFrame atual"
   ]
  },
  {
   "cell_type": "code",
   "execution_count": 23,
   "metadata": {},
   "outputs": [],
   "source": [
    "# Rename usando Lista - Modificar todos os nomes de colunas\n",
    "df_customers.columns = ['IDCliente', 'Genero', 'Mais65anos', 'TemParceiro', 'TemDependentes']"
   ]
  },
  {
   "cell_type": "code",
   "execution_count": null,
   "metadata": {},
   "outputs": [],
   "source": [
    "df_customers.info()"
   ]
  },
  {
   "cell_type": "markdown",
   "metadata": {},
   "source": [
    "## Unificar os DataFrames de Customers, Services e Contracts"
   ]
  },
  {
   "cell_type": "code",
   "execution_count": null,
   "metadata": {},
   "outputs": [],
   "source": [
    "# Contar quantidade de registros por DataFrame\n",
    "len(df_customers)"
   ]
  },
  {
   "cell_type": "code",
   "execution_count": null,
   "metadata": {},
   "outputs": [],
   "source": [
    "len(df_contracts)"
   ]
  },
  {
   "cell_type": "code",
   "execution_count": null,
   "metadata": {},
   "outputs": [],
   "source": [
    "len(df_services)"
   ]
  },
  {
   "cell_type": "code",
   "execution_count": 28,
   "metadata": {},
   "outputs": [],
   "source": [
    "# Renomear colunas\n",
    "df_services.rename(columns={'customerID': 'IDCliente'}, inplace=True)"
   ]
  },
  {
   "cell_type": "code",
   "execution_count": 29,
   "metadata": {},
   "outputs": [],
   "source": [
    "# Unificar DataFrame de Customers com Services, criando um terceiro DataFrame\n",
    "df_temp = df_customers.merge(df_services, on=['IDCliente'])"
   ]
  },
  {
   "cell_type": "code",
   "execution_count": 30,
   "metadata": {},
   "outputs": [],
   "source": [
    "# Unificar df_temp com Contracts, usando colunas de junção com nomes distintos\n",
    "df_churn_temp = df_temp.merge(df_contracts, left_on=['IDCliente'], right_on=['customerID'])"
   ]
  },
  {
   "cell_type": "code",
   "execution_count": 31,
   "metadata": {},
   "outputs": [],
   "source": [
    "# Unificar os três DataFrames ao mesmo tempo, com colunas que possuem nomes diferentes\n",
    "df_churn = df_customers.merge(df_services, on=['IDCliente']).merge(df_contracts, left_on=['IDCliente'], right_on=['customerID'])\n",
    "# O comando é basicamente uma unificação do comando utilizado acima, porém, nesse caso, ele tira a necessidade de utilizar um DataFrame intermediário"
   ]
  },
  {
   "cell_type": "code",
   "execution_count": 32,
   "metadata": {},
   "outputs": [],
   "source": [
    "# Removendo coluna de um DataFrame (Nesse caso, a coluna que está duplicada após o merge)\n",
    "df_churn.drop(['customerID'], axis=1, inplace=True)\n",
    "# O axis=1 define que a alteração que será realizada, é a nível de coluna, e o inplace=True para executar a ação efetivamente, não só exibi-la"
   ]
  },
  {
   "cell_type": "markdown",
   "metadata": {},
   "source": [
    "## Lidando com dados ausentes"
   ]
  },
  {
   "cell_type": "markdown",
   "metadata": {},
   "source": [
    "Dados faltantes completamente ao acaso (MCAR - Missing Completely at Random) - \n",
    "O fato de que um certo valor está faltando não tem nada a ver com o seu valor hipotético e com os valores de outras variáveis"
   ]
  },
  {
   "cell_type": "markdown",
   "metadata": {},
   "source": [
    "Dados faltantes ao acaso (MAR - Missing at Random) - Faltar dados aleatoriamente significa que a propensão para um ponto de dados estar ausente não está relacionada aos dados ausentes, mas está relacionada a alguns dos dados observados"
   ]
  },
  {
   "cell_type": "markdown",
   "metadata": {},
   "source": [
    "Dados faltantes não ao acaso (MNAR - Missing not at Random) - Duas razões possíveis são que o valor ausente depende do valor hipotético ou o valor ausente depende do valor de alguma outra variável"
   ]
  },
  {
   "cell_type": "code",
   "execution_count": null,
   "metadata": {},
   "outputs": [],
   "source": [
    "# Detectar valores ausentes em todas as colunas de um DataFrame\n",
    "df_churn.isna().sum()"
   ]
  },
  {
   "cell_type": "code",
   "execution_count": null,
   "metadata": {},
   "outputs": [],
   "source": [
    "# Detectar valores ausentes em uma coluna específica\n",
    "df_churn.TotalCharges.isna().sum()"
   ]
  },
  {
   "cell_type": "code",
   "execution_count": null,
   "metadata": {},
   "outputs": [],
   "source": [
    "# Quantas linhas tem pelo menos 1 coluna com valor ausente\n",
    "df_churn[df_churn.isna().any(axis=1)]"
   ]
  },
  {
   "cell_type": "code",
   "execution_count": null,
   "metadata": {},
   "outputs": [],
   "source": [
    "# Quantas colunas tem pelo menos 1 valor ausente\n",
    "df_churn.isna().any(axis=0).sum()"
   ]
  },
  {
   "cell_type": "markdown",
   "metadata": {},
   "source": [
    "## Remover valores ausentes"
   ]
  },
  {
   "cell_type": "code",
   "execution_count": null,
   "metadata": {},
   "outputs": [],
   "source": [
    "# Remover de forma direta e específica a coluna que possuí valores ausentes\n",
    "df_churn.drop(columns=['TotalCharges'], axis=1)\n",
    "# Nesse caso se subentende que eu já sei qual a coluna que quero excluir"
   ]
  },
  {
   "cell_type": "code",
   "execution_count": null,
   "metadata": {},
   "outputs": [],
   "source": [
    "# Remover colunas com valores ausentes\n",
    "df_churn.dropna(axis=1)\n",
    "# O axis=1 define que iremos trabalhar a nível de colunas, se fosse como 0, ele iria remover as linhas"
   ]
  },
  {
   "cell_type": "code",
   "execution_count": null,
   "metadata": {},
   "outputs": [],
   "source": [
    "# Remover colunas onde todos os valores estão ausentes\n",
    "df_churn.dropna(axis=1, how='all')"
   ]
  },
  {
   "cell_type": "code",
   "execution_count": null,
   "metadata": {},
   "outputs": [],
   "source": [
    "# Remover linhas com valores ausentes\n",
    "df_churn.dropna(axis=0)"
   ]
  },
  {
   "cell_type": "code",
   "execution_count": null,
   "metadata": {},
   "outputs": [],
   "source": [
    "# Remover linhas com todos os valores ausentes\n",
    "df_churn.dropna(axis=0, how='all')"
   ]
  },
  {
   "cell_type": "markdown",
   "metadata": {},
   "source": [
    "## Inputação de Valores Ausentes"
   ]
  },
  {
   "cell_type": "code",
   "execution_count": null,
   "metadata": {},
   "outputs": [],
   "source": [
    "# Preencher todos os valores ausentes com 0\n",
    "df_churn.fillna(0)"
   ]
  },
  {
   "cell_type": "code",
   "execution_count": null,
   "metadata": {},
   "outputs": [],
   "source": [
    "# Preencher valores padrão conforme a coluna\n",
    "df_churn.fillna(value={'TotalCharges': 0})"
   ]
  },
  {
   "cell_type": "code",
   "execution_count": null,
   "metadata": {},
   "outputs": [],
   "source": [
    "# Preencher todos os valores ausentes de uma coluna com a média\n",
    "media_TotalCharges = df_churn.TotalCharges.mean()\n",
    "df_churn.fillna(value={'TotalCharges': media_TotalCharges})"
   ]
  },
  {
   "cell_type": "markdown",
   "metadata": {},
   "source": [
    "## Análise Univariada"
   ]
  },
  {
   "cell_type": "markdown",
   "metadata": {},
   "source": [
    "- A faixa etária do cliente tem uma forte associcação com o churn\n",
    "- Um cliente com menos de 6 meses de contrato é mais propenso ao churn\n",
    "- Cliente com contrato mensal é mais propenso ao Churn"
   ]
  },
  {
   "cell_type": "code",
   "execution_count": null,
   "metadata": {},
   "outputs": [],
   "source": [
    "# Contar clientes usando a variável churn como referência\n",
    "df_churn.Churn.value_counts()"
   ]
  },
  {
   "cell_type": "code",
   "execution_count": null,
   "metadata": {},
   "outputs": [],
   "source": [
    "# Como identificar valores possíveis (únicos) numa variável do DataFrame\n",
    "df_churn.Churn.unique()"
   ]
  },
  {
   "cell_type": "code",
   "execution_count": null,
   "metadata": {},
   "outputs": [],
   "source": [
    "# Como é a distribuição de Clientes (percentual) que abandonaram ou continuam ativos\n",
    "df_churn.Churn.value_counts(normalize=True)"
   ]
  },
  {
   "cell_type": "code",
   "execution_count": null,
   "metadata": {},
   "outputs": [],
   "source": [
    "# Plot da distribuição do Churn (Quantidade)\n",
    "ax = df_churn.Churn.value_counts().plot.bar()\n",
    "\n",
    "ax.bar_label(ax.containers[0])"
   ]
  },
  {
   "cell_type": "code",
   "execution_count": null,
   "metadata": {},
   "outputs": [],
   "source": [
    "# Plot da distribuição do Churn (Percentual)\n",
    "ax = df_churn.Churn.value_counts(normalize=True).plot.bar()\n",
    "\n",
    "ax.bar_label(ax.containers[0])"
   ]
  },
  {
   "cell_type": "code",
   "execution_count": null,
   "metadata": {},
   "outputs": [],
   "source": [
    "# Quais são os tipos de contrato\n",
    "df_churn.Contract.unique()"
   ]
  },
  {
   "cell_type": "code",
   "execution_count": null,
   "metadata": {},
   "outputs": [],
   "source": [
    "# Plot da distribuição do Contract (Quantidade)\n",
    "ax = df_churn.Contract.value_counts().plot.bar()\n",
    "\n",
    "ax.bar_label(ax.containers[0])"
   ]
  },
  {
   "cell_type": "code",
   "execution_count": null,
   "metadata": {},
   "outputs": [],
   "source": [
    "# Plot da distribuição do Contract (Percentual)\n",
    "ax = df_churn.Contract.value_counts(normalize=True).plot.bar()\n",
    "\n",
    "ax.bar_label(ax.containers[0])"
   ]
  },
  {
   "cell_type": "code",
   "execution_count": null,
   "metadata": {},
   "outputs": [],
   "source": [
    "# Histograma do Tempo de Contrato\n",
    "df_churn.tenure.plot.hist()"
   ]
  },
  {
   "cell_type": "markdown",
   "metadata": {},
   "source": [
    "- A variável tempo de contrato (tenure) não apresenta visualmente uma distribuição normal.\n",
    "- A grande parte dos valores se concentram nos extremos, ou seja, contratos com poucos meses de ativação e contratos longos, acima aproximadamente dos 65 meses."
   ]
  },
  {
   "cell_type": "code",
   "execution_count": null,
   "metadata": {},
   "outputs": [],
   "source": [
    "# Histograma do Monthly Charges\n",
    "df_churn.MonthlyCharges.plot.hist()"
   ]
  },
  {
   "cell_type": "code",
   "execution_count": null,
   "metadata": {},
   "outputs": [],
   "source": [
    "# Medidas de Posição - Média do Tempo de Contrato\n",
    "df_churn.tenure.mean()"
   ]
  },
  {
   "cell_type": "code",
   "execution_count": null,
   "metadata": {},
   "outputs": [],
   "source": [
    "# Medidas de Posição - Mediana do Tempo de Contrato\n",
    "df_churn.tenure.median()"
   ]
  },
  {
   "cell_type": "code",
   "execution_count": null,
   "metadata": {},
   "outputs": [],
   "source": [
    "# Medidas de Posição - Moda do Tempo de Contrato\n",
    "df_churn.tenure.mode()"
   ]
  },
  {
   "cell_type": "code",
   "execution_count": null,
   "metadata": {},
   "outputs": [],
   "source": [
    "# Medidas de Dispersão - Desvio Padrão do Tempo de Contrato\n",
    "df_churn.tenure.std()\n",
    "# Significa a variação desses valores para cima e para baixo, com relação a média"
   ]
  },
  {
   "cell_type": "code",
   "execution_count": null,
   "metadata": {},
   "outputs": [],
   "source": [
    "# Medidas de Dispersão - Coeficiente de Variação\n",
    "df_churn.tenure.std() / df_churn.tenure.mean() * 100"
   ]
  },
  {
   "cell_type": "code",
   "execution_count": null,
   "metadata": {},
   "outputs": [],
   "source": [
    "# Quantos clientes possuem 1 mês de contrato - Filtro\n",
    "len(df_churn[(df_churn.tenure==1)])"
   ]
  },
  {
   "cell_type": "code",
   "execution_count": null,
   "metadata": {},
   "outputs": [],
   "source": [
    "# Quanto os clientes de 1 mês de contrato representam percentualmente\n",
    "len(df_churn[(df_churn.tenure==1)]) / len(df_churn) * 100"
   ]
  },
  {
   "cell_type": "code",
   "execution_count": null,
   "metadata": {},
   "outputs": [],
   "source": [
    "# Quantos clientes possuem entre 1 e 6 meses de contrato\n",
    "len(df_churn[(df_churn.tenure>=1) & (df_churn.tenure <= 6)])"
   ]
  },
  {
   "cell_type": "code",
   "execution_count": null,
   "metadata": {},
   "outputs": [],
   "source": [
    "# Apresentar a quantidade de clientes por tempo de contrato - Agrupamento com sumarização - Formato de texto\n",
    "df_churn.groupby(['tenure'])['tenure'].count().sort_values(ascending=False)"
   ]
  },
  {
   "cell_type": "code",
   "execution_count": null,
   "metadata": {},
   "outputs": [],
   "source": [
    "# Apresentar a quantidade de clientes por tempo de contrato - Agrupamento com sumarização - Formato de plot\n",
    "df_churn.groupby(['tenure'])['tenure'].count().sort_values().plot.barh(figsize=(20, 20))"
   ]
  },
  {
   "cell_type": "markdown",
   "metadata": {},
   "source": [
    "## Análise Bivariada"
   ]
  },
  {
   "cell_type": "code",
   "execution_count": 67,
   "metadata": {},
   "outputs": [
    {
     "data": {
      "text/html": [
       "<div>\n",
       "<style scoped>\n",
       "    .dataframe tbody tr th:only-of-type {\n",
       "        vertical-align: middle;\n",
       "    }\n",
       "\n",
       "    .dataframe tbody tr th {\n",
       "        vertical-align: top;\n",
       "    }\n",
       "\n",
       "    .dataframe thead th {\n",
       "        text-align: right;\n",
       "    }\n",
       "</style>\n",
       "<table border=\"1\" class=\"dataframe\">\n",
       "  <thead>\n",
       "    <tr style=\"text-align: right;\">\n",
       "      <th>Contract</th>\n",
       "      <th>Month-to-month</th>\n",
       "      <th>One year</th>\n",
       "      <th>Two year</th>\n",
       "      <th>Total</th>\n",
       "    </tr>\n",
       "    <tr>\n",
       "      <th>Churn</th>\n",
       "      <th></th>\n",
       "      <th></th>\n",
       "      <th></th>\n",
       "      <th></th>\n",
       "    </tr>\n",
       "  </thead>\n",
       "  <tbody>\n",
       "    <tr>\n",
       "      <th>No</th>\n",
       "      <td>2220</td>\n",
       "      <td>1307</td>\n",
       "      <td>1647</td>\n",
       "      <td>5174</td>\n",
       "    </tr>\n",
       "    <tr>\n",
       "      <th>Yes</th>\n",
       "      <td>1655</td>\n",
       "      <td>166</td>\n",
       "      <td>48</td>\n",
       "      <td>1869</td>\n",
       "    </tr>\n",
       "    <tr>\n",
       "      <th>Total</th>\n",
       "      <td>3875</td>\n",
       "      <td>1473</td>\n",
       "      <td>1695</td>\n",
       "      <td>7043</td>\n",
       "    </tr>\n",
       "  </tbody>\n",
       "</table>\n",
       "</div>"
      ],
      "text/plain": [
       "Contract  Month-to-month  One year  Two year  Total\n",
       "Churn                                              \n",
       "No                  2220      1307      1647   5174\n",
       "Yes                 1655       166        48   1869\n",
       "Total               3875      1473      1695   7043"
      ]
     },
     "execution_count": 67,
     "metadata": {},
     "output_type": "execute_result"
    }
   ],
   "source": [
    "# Hipótese: Clientes com Contrato do Tipo Mensal são mais propensos ao Churn\n",
    "# Construir Tabela de contingência entre tipo de contrato e churn - Quantidade\n",
    "pd.crosstab(df_churn.Churn, df_churn.Contract, margins=True, margins_name='Total')\n"
   ]
  },
  {
   "cell_type": "code",
   "execution_count": 70,
   "metadata": {},
   "outputs": [
    {
     "data": {
      "text/html": [
       "<div>\n",
       "<style scoped>\n",
       "    .dataframe tbody tr th:only-of-type {\n",
       "        vertical-align: middle;\n",
       "    }\n",
       "\n",
       "    .dataframe tbody tr th {\n",
       "        vertical-align: top;\n",
       "    }\n",
       "\n",
       "    .dataframe thead th {\n",
       "        text-align: right;\n",
       "    }\n",
       "</style>\n",
       "<table border=\"1\" class=\"dataframe\">\n",
       "  <thead>\n",
       "    <tr style=\"text-align: right;\">\n",
       "      <th>Contract</th>\n",
       "      <th>Month-to-month</th>\n",
       "      <th>One year</th>\n",
       "      <th>Two year</th>\n",
       "    </tr>\n",
       "    <tr>\n",
       "      <th>Churn</th>\n",
       "      <th></th>\n",
       "      <th></th>\n",
       "      <th></th>\n",
       "    </tr>\n",
       "  </thead>\n",
       "  <tbody>\n",
       "    <tr>\n",
       "      <th>No</th>\n",
       "      <td>42.906842</td>\n",
       "      <td>25.260920</td>\n",
       "      <td>31.832238</td>\n",
       "    </tr>\n",
       "    <tr>\n",
       "      <th>Yes</th>\n",
       "      <td>88.550027</td>\n",
       "      <td>8.881755</td>\n",
       "      <td>2.568218</td>\n",
       "    </tr>\n",
       "    <tr>\n",
       "      <th>Total</th>\n",
       "      <td>55.019168</td>\n",
       "      <td>20.914383</td>\n",
       "      <td>24.066449</td>\n",
       "    </tr>\n",
       "  </tbody>\n",
       "</table>\n",
       "</div>"
      ],
      "text/plain": [
       "Contract  Month-to-month   One year   Two year\n",
       "Churn                                         \n",
       "No             42.906842  25.260920  31.832238\n",
       "Yes            88.550027   8.881755   2.568218\n",
       "Total          55.019168  20.914383  24.066449"
      ]
     },
     "execution_count": 70,
     "metadata": {},
     "output_type": "execute_result"
    }
   ],
   "source": [
    "# Construir Tabela de contingência entre tipo de contrato e churn - Proporção\n",
    "pd.crosstab(df_churn.Churn, df_churn.Contract, normalize='index', margins=True, margins_name='Total') * 100"
   ]
  },
  {
   "cell_type": "markdown",
   "metadata": {},
   "source": [
    "Considerando o público total, os clientes de contrato mensal representam 55%. Porém, se considerarmos apenas os clientes que abandonaram o serviço, 88% tinham contrato mensal. Desta forma, podemos afirmar que há uma correlação entre o tipo de contrato mensal e o abandono."
   ]
  },
  {
   "cell_type": "markdown",
   "metadata": {},
   "source": [
    "### Avaliar a correlação entre duas variáveis categóricas (qualitativas)\n",
    "\n",
    "Executar um teste de hipótese chamado Chi-Square ou Qui-Quadrado de Pearson\n",
    "Em um teste de hipótese, duas hipóteses são formuladas:\n",
    "- H0 (Hipótese Nula): As duas variáveis são independentes\n",
    "- H1 (Hipótese Complementar): As duas variáveis não são independentes\n",
    "\n",
    "O teste serve para confirmar ou recusar a hipótese nula (H0)\n",
    "Quando a probabilidade de observarmos H0 é inferior a 0.05 (p-value), recusamos a hipótese nula e seguimos com a complementar"
   ]
  },
  {
   "cell_type": "code",
   "execution_count": 71,
   "metadata": {},
   "outputs": [],
   "source": [
    "# Gerar um DF da Crosstab (sem totais)\n",
    "df_crosstab_churn_contract = pd.crosstab(df_churn.Churn, df_churn.Contract)"
   ]
  },
  {
   "cell_type": "code",
   "execution_count": 72,
   "metadata": {},
   "outputs": [],
   "source": [
    "# Calcular os Scores e P-Values\n",
    "from scipy.stats import chi2_contingency"
   ]
  },
  {
   "cell_type": "code",
   "execution_count": 81,
   "metadata": {},
   "outputs": [],
   "source": [
    "# Tupla = Lista imutável\n",
    "chi_scores_churn_contract = chi2_contingency(df_crosstab_churn_contract)"
   ]
  },
  {
   "cell_type": "code",
   "execution_count": 82,
   "metadata": {},
   "outputs": [
    {
     "data": {
      "text/plain": [
       "Chi2ContingencyResult(statistic=1184.5965720837926, pvalue=5.863038300673391e-258, dof=2, expected_freq=array([[2846.69175067, 1082.11018032, 1245.198069  ],\n",
       "       [1028.30824933,  390.88981968,  449.801931  ]]))"
      ]
     },
     "execution_count": 82,
     "metadata": {},
     "output_type": "execute_result"
    }
   ],
   "source": [
    "chi_scores_churn_contract"
   ]
  },
  {
   "cell_type": "code",
   "execution_count": 75,
   "metadata": {},
   "outputs": [],
   "source": [
    "scores_churn_contract = pd.Series(chi_scores_churn_contract[0])"
   ]
  },
  {
   "cell_type": "code",
   "execution_count": 76,
   "metadata": {},
   "outputs": [],
   "source": [
    "pvalues_churn_contract = pd.Series(chi_scores_churn_contract[1])"
   ]
  },
  {
   "cell_type": "code",
   "execution_count": 77,
   "metadata": {},
   "outputs": [],
   "source": [
    "# Apresentar números com decimais sem a notação científica\n",
    "pd.set_option('display.float_format', lambda x: '%.15f' % x)"
   ]
  },
  {
   "cell_type": "code",
   "execution_count": 79,
   "metadata": {},
   "outputs": [],
   "source": [
    "# Criar DataFrame com os resultados\n",
    "df_chi_scores_churn_contract = pd.DataFrame({'Qui2': scores_churn_contract, \n",
    "                                             'p-value': pvalues_churn_contract})"
   ]
  },
  {
   "cell_type": "code",
   "execution_count": 80,
   "metadata": {},
   "outputs": [
    {
     "data": {
      "text/html": [
       "<div>\n",
       "<style scoped>\n",
       "    .dataframe tbody tr th:only-of-type {\n",
       "        vertical-align: middle;\n",
       "    }\n",
       "\n",
       "    .dataframe tbody tr th {\n",
       "        vertical-align: top;\n",
       "    }\n",
       "\n",
       "    .dataframe thead th {\n",
       "        text-align: right;\n",
       "    }\n",
       "</style>\n",
       "<table border=\"1\" class=\"dataframe\">\n",
       "  <thead>\n",
       "    <tr style=\"text-align: right;\">\n",
       "      <th></th>\n",
       "      <th>Qui2</th>\n",
       "      <th>p-value</th>\n",
       "    </tr>\n",
       "  </thead>\n",
       "  <tbody>\n",
       "    <tr>\n",
       "      <th>0</th>\n",
       "      <td>1184.596572083792580</td>\n",
       "      <td>0.000000000000000</td>\n",
       "    </tr>\n",
       "  </tbody>\n",
       "</table>\n",
       "</div>"
      ],
      "text/plain": [
       "                  Qui2           p-value\n",
       "0 1184.596572083792580 0.000000000000000"
      ]
     },
     "execution_count": 80,
     "metadata": {},
     "output_type": "execute_result"
    }
   ],
   "source": [
    "# Analisar Scores e P-Values\n",
    "df_chi_scores_churn_contract"
   ]
  },
  {
   "cell_type": "markdown",
   "metadata": {},
   "source": [
    "Conforme Teste Estatístico (Chi-Square), o p-value <= 0.05, desta forma, rejeitamos a hipótese nula, ou seja, as variáveis não são independentes. Pelo Qui2 alto, podemos afirmar que há uma forte correlação."
   ]
  },
  {
   "cell_type": "code",
   "execution_count": null,
   "metadata": {},
   "outputs": [],
   "source": []
  }
 ],
 "metadata": {
  "kernelspec": {
   "display_name": "Python 3",
   "language": "python",
   "name": "python3"
  },
  "language_info": {
   "codemirror_mode": {
    "name": "ipython",
    "version": 3
   },
   "file_extension": ".py",
   "mimetype": "text/x-python",
   "name": "python",
   "nbconvert_exporter": "python",
   "pygments_lexer": "ipython3",
   "version": "3.12.2"
  }
 },
 "nbformat": 4,
 "nbformat_minor": 2
}
